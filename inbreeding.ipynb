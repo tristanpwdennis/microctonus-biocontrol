{
 "cells": [
  {
   "cell_type": "code",
   "execution_count": 1,
   "id": "6850c9ac-cf3e-4834-b2b3-c4f5667b6820",
   "metadata": {},
   "outputs": [
    {
     "name": "stdout",
     "output_type": "stream",
     "text": [
      "scikit-allel 1.3.5\n"
     ]
    }
   ],
   "source": [
    "import numpy as np\n",
    "import zarr\n",
    "import matplotlib.pyplot as plt\n",
    "%matplotlib inline\n",
    "import seaborn as sns\n",
    "sns.set_style('white')\n",
    "sns.set_style('ticks')\n",
    "import pandas as pd\n",
    "import allel; print('scikit-allel', allel.__version__)"
   ]
  },
  {
   "cell_type": "markdown",
   "id": "c7228c1c-d999-41ce-a829-70623ac3fb53",
   "metadata": {},
   "source": [
    "This notebook analysis Microctonus hyperodae SNP data for the effects of inbreeding in the population of samples overall, and whether there are any systematic differences in inbreeding (Fis and ROH) between different sites and continents"
   ]
  }
 ],
 "metadata": {
  "kernelspec": {
   "display_name": "Python 3 (ipykernel)",
   "language": "python",
   "name": "python3"
  },
  "language_info": {
   "codemirror_mode": {
    "name": "ipython",
    "version": 3
   },
   "file_extension": ".py",
   "mimetype": "text/x-python",
   "name": "python",
   "nbconvert_exporter": "python",
   "pygments_lexer": "ipython3",
   "version": "3.10.8"
  }
 },
 "nbformat": 4,
 "nbformat_minor": 5
}
