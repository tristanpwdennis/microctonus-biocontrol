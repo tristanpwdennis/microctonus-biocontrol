{
 "cells": [
  {
   "cell_type": "code",
   "execution_count": null,
   "id": "3c5db0b5-564d-486b-ac3a-69c1e84ab90c",
   "metadata": {},
   "outputs": [
    {
     "name": "stdout",
     "output_type": "stream",
     "text": [
      "scikit-allel 1.3.5\n"
     ]
    }
   ],
   "source": [
    "import numpy as np\n",
    "import scipy\n",
    "import pandas\n",
    "import matplotlib as mpl\n",
    "import matplotlib.pyplot as plt\n",
    "%matplotlib inline\n",
    "import seaborn as sns\n",
    "sns.set_style('white')\n",
    "sns.set_style('ticks')\n",
    "sns.set_context('notebook')\n",
    "import h5py\n",
    "import allel; print('scikit-allel', allel.__version__)\n",
    "import zarr"
   ]
  },
  {
   "cell_type": "code",
   "execution_count": 24,
   "id": "089f3ad5-110e-4aba-831e-7028f673a6ef",
   "metadata": {},
   "outputs": [],
   "source": [
    "zarr_path = '/Users/dennistpw/Projects/microctonus/microctonus_genom/snpdata/microctonus_fullcohort.zarr/'\n",
    "callset = zarr.open_group(zarr_path, mode='r')\n",
    "variants = allel.VariantChunkedTable(callset['variants'], \n",
    "                                     names=['CHROM','POS', 'REF', 'ALT', 'DP', 'MQ', 'QD', 'QUAL', 'MQRankSum', 'ReadPosRankSum', 'FS', 'SOR' ,'AF'])"
   ]
  },
  {
   "cell_type": "code",
   "execution_count": 28,
   "id": "d0c5b684-5a6c-475a-a5c8-c9903304d13c",
   "metadata": {},
   "outputs": [
    {
     "name": "stderr",
     "output_type": "stream",
     "text": [
      "/var/folders/4x/vrllg_b96ll6cgd30x9blq8m0000gn/T/ipykernel_67957/2994579595.py:8: DeprecationWarning: elementwise comparison failed; this will raise an error in the future.\n",
      "  np.all(samples[:] == df_samples['sample_id'].values)\n"
     ]
    },
    {
     "data": {
      "text/plain": [
       "False"
      ]
     },
     "execution_count": 28,
     "metadata": {},
     "output_type": "execute_result"
    }
   ],
   "source": [
    "df_samples = pandas.read_csv('/Users/dennistpw/Projects/microctonus/microctonus_genom/sampledata/myhponly_metadata.csv', delimiter=',')\n",
    "samples = callset['samples']\n",
    "samples_list = list(samples)\n",
    "samples_callset_index = [samples_list.index(s) for s in df_samples['sample_id']]\n",
    "df_samples['callset_index'] = samples_callset_index\n",
    "#df_samples = df_samples.sort_values('callset_index')\n",
    "df_samples = df_samples.sort_values('callset_index')\n",
    "np.all(samples[:] == df_samples['sample_id'].values)\n"
   ]
  },
  {
   "cell_type": "code",
   "execution_count": 29,
   "id": "91ce9fe2-d11d-4e79-895f-2b01598b22e9",
   "metadata": {},
   "outputs": [
    {
     "data": {
      "text/plain": [
       "(182, 16)"
      ]
     },
     "execution_count": 29,
     "metadata": {},
     "output_type": "execute_result"
    }
   ],
   "source": [
    "df_samples.shape"
   ]
  },
  {
   "cell_type": "code",
   "execution_count": null,
   "id": "3532a10b-b453-424a-a7f5-00bf7d37bb71",
   "metadata": {},
   "outputs": [],
   "source": [
    "def plot_variant_hist(f, bins=30):\n",
    "    x = variants[f][:]\n",
    "    fig, ax = plt.subplots(figsize=(7, 5))\n",
    "    sns.despine(ax=ax, offset=10)\n",
    "    ax.hist(x, bins=bins)\n",
    "    ax.set_xlabel(f)\n",
    "    ax.set_ylabel('No. variants')\n",
    "    ax.set_title('Variant %s distribution' % f)"
   ]
  },
  {
   "cell_type": "code",
   "execution_count": null,
   "id": "afb61843-55eb-449a-858b-dc737fd3906e",
   "metadata": {},
   "outputs": [
    {
     "name": "stderr",
     "output_type": "stream",
     "text": [
      "/Users/dennistpw/mambaforge/envs/microctonus-genome/lib/python3.10/site-packages/matplotlib/axes/_axes.py:6709: RuntimeWarning: All-NaN slice encountered\n",
      "  xmin = min(xmin, np.nanmin(xi))\n",
      "/Users/dennistpw/mambaforge/envs/microctonus-genome/lib/python3.10/site-packages/matplotlib/axes/_axes.py:6710: RuntimeWarning: All-NaN slice encountered\n",
      "  xmax = max(xmax, np.nanmax(xi))\n"
     ]
    },
    {
     "data": {
      "image/png": "[encoded data removed]",
      "text/plain": [
       "<Figure size 700x500 with 1 Axes>"
      ]
     },
     "metadata": {},
     "output_type": "display_data"
    }
   ],
   "source": [
    "plot_variant_hist('AF', bins=100)"
   ]
  },
  {
   "cell_type": "code",
   "execution_count": null,
   "id": "ebfbc4d6-51df-41ff-ba7e-4b4f9668912a",
   "metadata": {},
   "outputs": [],
   "source": [
    "plot_variant_hist('DP', bins=100)"
   ]
  },
  {
   "cell_type": "code",
   "execution_count": null,
   "id": "c60a6d9c-e699-41a3-a69f-fe7bd3d17670",
   "metadata": {},
   "outputs": [],
   "source": [
    "plot_variant_hist('FS')"
   ]
  },
  {
   "cell_type": "code",
   "execution_count": null,
   "id": "0026bf10-b42f-434c-8506-44ec70599e14",
   "metadata": {},
   "outputs": [],
   "source": [
    "plot_variant_hist('MQ')"
   ]
  },
  {
   "cell_type": "code",
   "execution_count": null,
   "id": "eca62245-f8d6-45e3-bda3-3e3b2141718e",
   "metadata": {},
   "outputs": [],
   "source": [
    "plot_variant_hist('QD')"
   ]
  },
  {
   "cell_type": "code",
   "execution_count": null,
   "id": "fae72386-3949-474b-b64a-aa0311f6c9b9",
   "metadata": {},
   "outputs": [],
   "source": [
    "filter_expression = '(QD > 10) & (AFR'"
   ]
  },
  {
   "cell_type": "code",
   "execution_count": null,
   "id": "050b26c1-b4c4-4dbe-970f-f6f241d66e41",
   "metadata": {},
   "outputs": [],
   "source": [
    "variant_selection = variants.eval(filter_expression)[:]\n",
    "np.count_nonzero(variant_selection)\n",
    "np.count_nonzero(~variant_selection)\n",
    "variants_pass = variants.compress(variant_selection)\n",
    "variants_pass.shape"
   ]
  },
  {
   "cell_type": "code",
   "execution_count": null,
   "id": "6588405b-68ca-433d-9a9b-2409e0b56fc9",
   "metadata": {},
   "outputs": [],
   "source": [
    "def plot_variantpass_hist(f, bins=30):\n",
    "    x = variants_pass[f][:]\n",
    "    fig, ax = plt.subplots(figsize=(7, 5))\n",
    "    sns.despine(ax=ax, offset=10)\n",
    "    ax.hist(x, bins=bins)\n",
    "    ax.set_xlabel(f)\n",
    "    ax.set_ylabel('No. variants')\n",
    "    ax.set_title('Variant %s distribution' % f)\n",
    "plot_variantpass_hist('DP', bins=100)"
   ]
  },
  {
   "cell_type": "code",
   "execution_count": null,
   "id": "169341a8-1cf3-4af6-93e9-b945abc17972",
   "metadata": {},
   "outputs": [],
   "source": [
    "#extract genotypes from filtered data\n",
    "genotypes = allel.GenotypeChunkedArray(callset['calldata/GT'])\n",
    "genotypes_subset = genotypes.subset(variant_selection)\n",
    "n_variants = len(variants_pass)\n",
    "pc_missing = genotypes_subset.count_missing(axis=0)[:] * 100 / n_variants\n",
    "pc_het = genotypes_subset.count_het(axis=0)[:] * 100 / n_variants"
   ]
  },
  {
   "cell_type": "code",
   "execution_count": null,
   "id": "55640713-a9b0-4a7b-8e0c-9877597675b5",
   "metadata": {},
   "outputs": [],
   "source": [
    "def plot_genotype_frequency(pc, title):\n",
    "    fig, ax = plt.subplots(figsize=(12, 4))\n",
    "    sns.despine(ax=ax, offset=10)\n",
    "    left = np.arange(len(pc))\n",
    "    palette = sns.color_palette()\n",
    "    pop2color = {'M_hyperodae': palette[0], 'M_aethiopoides': palette[1]}\n",
    "    colors = [pop2color[p] for p in df_samples.Species]\n",
    "    ax.bar(left, pc, color=colors)\n",
    "    ax.set_xlim(0, len(pc))\n",
    "    ax.set_xlabel('Sample index')\n",
    "    ax.set_ylabel('Percent calls')\n",
    "    ax.set_title(title)\n",
    "    handles = [mpl.patches.Patch(color=palette[0]),\n",
    "               mpl.patches.Patch(color=palette[1])]\n",
    "    ax.legend(handles=handles, labels=['M_hyperodae', 'M_aethiopoides'], title='Species',\n",
    "              bbox_to_anchor=(1, 1), loc='upper left')"
   ]
  },
  {
   "cell_type": "code",
   "execution_count": null,
   "id": "5cb15b84-1379-4c78-ba49-aea86d22d15e",
   "metadata": {},
   "outputs": [],
   "source": [
    "plot_genotype_frequency(pc_missing, 'Missing')"
   ]
  },
  {
   "cell_type": "code",
   "execution_count": null,
   "id": "18e9d4fb-5fa0-4395-8ca2-14bbd0a352c4",
   "metadata": {},
   "outputs": [],
   "source": [
    "plot_genotype_frequency(pc_het, 'Heterozygous')"
   ]
  },
  {
   "cell_type": "code",
   "execution_count": null,
   "id": "fdc3a19f-59e0-4bef-b6b8-228e7f520910",
   "metadata": {},
   "outputs": [],
   "source": [
    "g = allel.GenotypeChunkedArray(callset['calldata']['GT'])\n",
    "ac = g.count_alleles()[:]\n",
    "np.count_nonzero(ac.max_allele() > 1)\n",
    "#count singletons\n",
    "np.count_nonzero((ac.max_allele() == 1) & ac.is_singleton(1))\n",
    "#apply filter\n",
    "flt = (ac.max_allele() == 1) & (ac[:, :2].min(axis=1) > 1)\n",
    "gf = g.compress(flt, axis=0)"
   ]
  },
  {
   "cell_type": "code",
   "execution_count": null,
   "id": "00365b42-dc95-48aa-a5bd-965ffde11252",
   "metadata": {},
   "outputs": [],
   "source": [
    "#Finally, transform the genotype data into a 2-dimensional matrix where each cell has the number of non-reference alleles per call. This is what we’ll use as the input to PCA.\n",
    "gn = gf.to_n_alt()"
   ]
  },
  {
   "cell_type": "code",
   "execution_count": null,
   "id": "7fb0eeef-f292-4697-a668-6fd82f622340",
   "metadata": {},
   "outputs": [],
   "source": [
    "def ld_prune(gn, size, step, threshold=.1, n_iter=1):\n",
    "    for i in range(n_iter):\n",
    "        loc_unlinked = allel.locate_unlinked(gn, size=size, step=step, threshold=threshold)\n",
    "        n = np.count_nonzero(loc_unlinked)\n",
    "        n_remove = gn.shape[0] - n\n",
    "        print('iteration', i+1, 'retaining', n, 'removing', n_remove, 'variants')\n",
    "        gn = gn.compress(loc_unlinked, axis=0)\n",
    "    return gn\n",
    "gnp = ld_prune(gn, size=500, step=200, threshold=.1, n_iter=1)\n",
    "#normally just one iteration but can do multiple if you want to see how many get taken"
   ]
  },
  {
   "cell_type": "code",
   "execution_count": null,
   "id": "cd06f8bd-12d7-4de7-98a0-866f8d9fbd4d",
   "metadata": {},
   "outputs": [],
   "source": [
    "#flatten from array to GT matrix for PCA\n",
    "gnu = gn[:]\n",
    "gnp = gnp[:]"
   ]
  },
  {
   "cell_type": "code",
   "execution_count": null,
   "id": "175982e2-06b8-4b85-b2ad-51e45fc2d04e",
   "metadata": {},
   "outputs": [],
   "source": [
    "coords_unpruned, model_unpruned = allel.pca(gnu[:], n_components=10, scaler='patterson')\n",
    "coords_pruned, model_pruned = allel.pca(gnp[:], n_components=10, scaler='patterson')"
   ]
  },
  {
   "cell_type": "code",
   "execution_count": null,
   "id": "20cd524e-6e92-4da0-bfc1-74769c99f0fa",
   "metadata": {},
   "outputs": [],
   "source": [
    "population = df_samples.Location.unique()"
   ]
  },
  {
   "cell_type": "code",
   "execution_count": null,
   "id": "2521c0e4-c050-4ab8-b860-a3a189d789dc",
   "metadata": {},
   "outputs": [],
   "source": [
    "site_colours = {\n",
    "\"Ruakura\": \"#5A5156\",\n",
    "\"Lincoln\" : \"#E4E1E3\",\n",
    "\"Ascasubi\" : \"#F6222E\",\n",
    "\"Bariloche\" : \"#FE00FA\",\n",
    "\"Featherston\" : \"#16FF32\",\n",
    "\"Fortrose\" : \"#3283FE\",\n",
    "\"Hawkes_Bay\" : \"#FEAF16\",\n",
    "\"La_Serena\" : \"#B00068\",\n",
    "\"Mararoa\" : \"#1CFFCE\",\n",
    "\"Mendoza\" : \"#90AD1C\",\n",
    "\"Mossburn\" : \"#2ED9FF\",\n",
    "\"Porto_Alegre\" : \"#DEA0FD\",\n",
    "\"Rio_Negro\" : \"#AA0DFE\",\n",
    "\"Ruakaka\" : \"#F8A19F\",\n",
    "\"South_Chile\" : \"#325A9B\" ,\n",
    "\"Uruguay\" : \"#C4451C\",\n",
    "\"West_Coast_Site_1\" : \"#1C8356\"\n",
    "}\n",
    "\n",
    "\n",
    "species_colours = {\n",
    "    'M_hyperodae': '#00FFFF',\n",
    "    'M_aethiopoides': '#90EE90',\n",
    "}"
   ]
  },
  {
   "cell_type": "code",
   "execution_count": null,
   "id": "d54cbedd-7fd4-40d1-93b6-9da93be7ca83",
   "metadata": {},
   "outputs": [],
   "source": [
    "def plot_pca_coords(coords, model, pc1, pc2, ax, sample_population):\n",
    "    sns.despine(ax=ax, offset=5)\n",
    "    x = coords[:, pc1]\n",
    "    y = coords[:, pc2]\n",
    "    #populations = df_samples[sample_population].unique()\n",
    "    for pop in populations:\n",
    "        flt = (sample_population == pop)\n",
    "        ax.plot(x[flt], y[flt], marker='o', linestyle=' ', color=pop_colours[pop], \n",
    "                label=pop, markersize=6, mec='k', mew=.5)\n",
    "    ax.set_xlabel('PC%s (%.1f%%)' % (pc1+1, model.explained_variance_ratio_[pc1]*100))\n",
    "    ax.set_ylabel('PC%s (%.1f%%)' % (pc2+1, model.explained_variance_ratio_[pc2]*100))\n",
    "    \n",
    "\n",
    "def fig_pca(coords, model, title,  sample_metadata, sample_population=None):\n",
    "    if sample_population is None:\n",
    "        sample_population = sample_metadata['Species'].values\n",
    "    else:\n",
    "        sample_population = sample_metadata[sample_population].values\n",
    "    # plot coords for PCs 1 vs 2, 3 vs 4\n",
    "    fig = plt.figure(figsize=(10, 5))\n",
    "    ax = fig.add_subplot(1, 2, 1)\n",
    "    plot_pca_coords(coords, model, 0, 1, ax, sample_population)\n",
    "    ax = fig.add_subplot(1, 2, 2)\n",
    "    plot_pca_coords(coords, model, 2, 3, ax, sample_population)\n",
    "    ax.legend(bbox_to_anchor=(1, 1), loc='upper left')\n",
    "    fig.suptitle(title, y=1.02)\n",
    "    fig.tight_layout()"
   ]
  },
  {
   "cell_type": "code",
   "execution_count": null,
   "id": "e9ac14a7-0990-40a5-bf78-54a0bb891a5c",
   "metadata": {},
   "outputs": [],
   "source": [
    "populations = df_samples.Species.unique()\n",
    "pop_colours=species_colours\n",
    "fig_pca(coords_unpruned, model_unpruned, 'Figure 4. Conventional PCA, Species, Unpruned GTs', df_samples, sample_population = 'Species')"
   ]
  },
  {
   "cell_type": "code",
   "execution_count": null,
   "id": "f8962413-16f0-4fac-b838-e02e06622d7a",
   "metadata": {},
   "outputs": [],
   "source": [
    "populations = df_samples.Location.unique()\n",
    "pop_colours=site_colours\n",
    "fig_pca(coords_unpruned, model_unpruned, 'Figure 5. Conventional PCA, Site, Unpruned GTs', df_samples, sample_population = 'Location')"
   ]
  },
  {
   "cell_type": "code",
   "execution_count": null,
   "id": "29d75a3e-f6dc-4cf9-8d95-472553ed90d3",
   "metadata": {},
   "outputs": [],
   "source": [
    "populations = df_samples.Location.unique()\n",
    "pop_colours=site_colours\n",
    "fig_pca(coords_pruned, model_pruned, 'Figure 5. Conventional PCA, Site, Unpruned GTs', df_samples, sample_population = 'Location')"
   ]
  },
  {
   "cell_type": "code",
   "execution_count": null,
   "id": "ac07545d-c66f-4d84-a30d-4f605b7cc36e",
   "metadata": {},
   "outputs": [],
   "source": [
    "populations = df_samples.Species.unique()\n",
    "pop_colours=species_colours\n",
    "fig_pca(coords_pruned, model_pruned, 'Figure 5. Conventional PCA, Site, Unpruned GTs', df_samples, sample_population = 'Species')"
   ]
  },
  {
   "cell_type": "code",
   "execution_count": null,
   "id": "74e83193-c433-4587-aa45-8f142adbd319",
   "metadata": {},
   "outputs": [],
   "source": [
    "df_samples.meandepth_Mh_scaffold_1 > 10\n",
    "mhyp_samples = df_samples[(df_samples.Species == 'M_hyperodae') & (df_samples.meandepth_Mh_scaffold_1 > 10)]\n",
    "mhyp_sample_indices = mhyp_samples.callset_index.values\n",
    "gt_hyp = gf.take(mhyp_sample_indices, axis=1)\n",
    "unlinked_loci = allel.locate_unlinked(gn)\n",
    "unlinked_gts = gf.subset(unlinked_loci)\n",
    "mhyp_gt  = unlinked_gts.take(mhyp_sample_indices, axis=1)\n",
    "unlinked_gts = gf.subset(unlinked_loci)\n",
    "mhyp_gt  = unlinked_gts.take(mhyp_sample_indices, axis=1)\n",
    "#plot_ld(mhyp_gt.to_n_alt()[:1000], 'Figure 2. Pairwise LD after LD pruning.')"
   ]
  },
  {
   "cell_type": "code",
   "execution_count": null,
   "id": "b8077941-047d-49dd-8c45-9cf89eeadbd5",
   "metadata": {},
   "outputs": [],
   "source": [
    "ac = mhyp_gt.count_alleles()[:]\n",
    "np.count_nonzero(ac.max_allele() > 1)\n",
    "#count singletons\n",
    "np.count_nonzero((ac.max_allele() == 1) & ac.is_singleton(1))\n",
    "#apply filter\n",
    "flt = (ac.max_allele() == 1) & (ac[:, :2].min(axis=1) > 1)\n",
    "gf = mhyp_gt.compress(flt, axis=0)\n",
    "mhalt = gf.to_n_alt()\n",
    "#do pca\n",
    "coords_mhonly_pruned, model_mhonly_pruned = allel.pca(mhalt[:], n_components=10, scaler='patterson')\n",
    "#subset metadata"
   ]
  },
  {
   "cell_type": "code",
   "execution_count": null,
   "id": "05e04624-c067-4971-8e27-2aff16860be7",
   "metadata": {},
   "outputs": [],
   "source": [
    "populations = mhyp_samples.Species.unique()\n",
    "pop_colours=species_colours\n",
    "fig_pca(coords_mhonly_pruned, model_mhonly_pruned, 'Figure 5. Conventional PCA, Site, Unpruned GTs',  mhyp_samples, sample_population = 'Species')"
   ]
  },
  {
   "cell_type": "code",
   "execution_count": null,
   "id": "6e520e4f-5af1-4022-9868-4719be3b1c26",
   "metadata": {},
   "outputs": [],
   "source": [
    "populations = mhyp_samples.Location.unique()\n",
    "pop_colours=site_colours\n",
    "fig_pca(coords_mhonly_pruned, model_mhonly_pruned, 'Figure 5. Conventional PCA, Site, Unpruned GTs',  mhyp_samples, sample_population = 'Location')"
   ]
  },
  {
   "cell_type": "code",
   "execution_count": null,
   "id": "10b1302a-42ed-4ce0-8430-86962f73ea8b",
   "metadata": {},
   "outputs": [],
   "source": []
  }
 ],
 "metadata": {
  "kernelspec": {
   "display_name": "Python 3 (ipykernel)",
   "language": "python",
   "name": "python3"
  },
  "language_info": {
   "codemirror_mode": {
    "name": "ipython",
    "version": 3
   },
   "file_extension": ".py",
   "mimetype": "text/x-python",
   "name": "python",
   "nbconvert_exporter": "python",
   "pygments_lexer": "ipython3",
   "version": "3.10.8"
  }
 },
 "nbformat": 4,
 "nbformat_minor": 5
}
