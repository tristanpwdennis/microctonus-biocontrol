{
 "cells": [
  {
   "cell_type": "code",
   "execution_count": null,
   "id": "e50e56f3-a0f2-4acb-9918-83bb0f2b7564",
   "metadata": {},
   "outputs": [],
   "source": [
    "import numpy as np\n",
    "import scipy\n",
    "import pandas\n",
    "import matplotlib as mpl\n",
    "import matplotlib.pyplot as plt\n",
    "%matplotlib inline\n",
    "import seaborn as sns\n",
    "sns.set_style('white')\n",
    "sns.set_style('ticks')\n",
    "sns.set_context('notebook')\n",
    "import h5py\n",
    "import allel; print('scikit-allel', allel.__version__)\n",
    "import zarr"
   ]
  },
  {
   "cell_type": "markdown",
   "id": "b6aafb1d-7558-4a6f-947d-cd60e9c04ea5",
   "metadata": {},
   "source": [
    "SNPs were filtered with (see other notebooks for exploration of this):\n",
    "- min-mac of 2 (see Battey and Linck, 2019)\n",
    "- minDP of 200 and max DP of 10k - see Heng Li 2014\n",
    "- QD > 10 (Ali Miles blog post)\n",
    "- MQ > 50 (ibid)\n",
    "- no indels or multiallelics\n"
   ]
  },
  {
   "cell_type": "code",
   "execution_count": null,
   "id": "eecd00ab-82a9-4229-91d5-a91a75bacfa4",
   "metadata": {},
   "outputs": [],
   "source": [
    "g = allel.GenotypeChunkedArray(callset['calldata']['GT'])\n",
    "ac = g.count_alleles()[:]\n",
    "np.count_nonzero(ac.max_allele() > 1)\n",
    "#count singletons\n",
    "np.count_nonzero((ac.max_allele() == 1) & ac.is_singleton(1))\n",
    "#apply filter\n",
    "flt = (ac.max_allele() == 1) & (ac[:, :2].min(axis=1) > 1)\n",
    "gf = g.compress(flt, axis=0)"
   ]
  }
 ],
 "metadata": {
  "kernelspec": {
   "display_name": "Python 3 (ipykernel)",
   "language": "python",
   "name": "python3"
  },
  "language_info": {
   "codemirror_mode": {
    "name": "ipython",
    "version": 3
   },
   "file_extension": ".py",
   "mimetype": "text/x-python",
   "name": "python",
   "nbconvert_exporter": "python",
   "pygments_lexer": "ipython3",
   "version": "3.10.8"
  }
 },
 "nbformat": 4,
 "nbformat_minor": 5
}
